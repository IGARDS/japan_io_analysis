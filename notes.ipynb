{
 "cells": [
  {
   "cell_type": "markdown",
   "metadata": {},
   "source": [
    "# TODO\n",
    "1. I think we should track the maximum, minimum, and median correlation over time. \n",
    "2. Also, consider how we can restrict the solutions based on things we see in x*"
   ]
  },
  {
   "cell_type": "code",
   "execution_count": 2,
   "metadata": {},
   "outputs": [],
   "source": [
    "from gurobipy import *"
   ]
  },
  {
   "cell_type": "code",
   "execution_count": 3,
   "metadata": {},
   "outputs": [
    {
     "name": "stdout",
     "output_type": "stream",
     "text": [
      "Academic license - for non-commercial use only\n",
      "Read LP format model from file jpn1995.lp\n",
      "Reading time = 0.47 seconds\n",
      "obj: 348655 rows, 10404 columns, 1042682 nonzeros\n"
     ]
    }
   ],
   "source": [
    "model = read('jpn1995.lp')"
   ]
  },
  {
   "cell_type": "code",
   "execution_count": 4,
   "metadata": {},
   "outputs": [
    {
     "name": "stdout",
     "output_type": "stream",
     "text": [
      "Optimize a model with 348655 rows, 10404 columns and 1042682 nonzeros\n",
      "Variable types: 0 continuous, 10404 integer (0 binary)\n",
      "Coefficient statistics:\n",
      "  Matrix range     [1e-02, 1e+00]\n",
      "  Objective range  [1e-02, 7e-01]\n",
      "  Bounds range     [1e+00, 1e+00]\n",
      "  RHS range        [1e+00, 4e+01]\n",
      "Presolve removed 5253 rows and 5253 columns\n",
      "Presolve time: 2.44s\n",
      "Presolved: 343402 rows, 5151 columns, 1032188 nonzeros\n",
      "Variable types: 0 continuous, 5151 integer (5151 binary)\n",
      "\n",
      "Root simplex log...\n",
      "\n",
      "Iteration    Objective       Primal Inf.    Dual Inf.      Time\n",
      "       0    1.0954879e+02   0.000000e+00   1.344281e+05      7s\n",
      "   16002    4.1921582e+01   0.000000e+00   6.707843e+07     11s\n",
      "   21221    3.9956233e+01   0.000000e+00   1.085954e+07     15s\n",
      "   28459    3.9595939e+01   0.000000e+00   8.022238e+06     21s\n",
      "   34744    3.9498562e+01   0.000000e+00   1.456969e+06     25s\n",
      "   39938    3.9451766e+01   0.000000e+00   1.647011e+06     30s\n",
      "   46337    3.9408338e+01   0.000000e+00   1.694219e+06     36s\n",
      "   52715    3.9381387e+01   0.000000e+00   1.866388e+06     41s\n",
      "   58095    3.9361794e+01   0.000000e+00   2.327039e+06     46s\n",
      "   63828    3.9345626e+01   0.000000e+00   6.062849e+05     51s\n",
      "   69333    3.9332220e+01   0.000000e+00   4.428284e+05     56s\n",
      "   73556    3.9322273e+01   0.000000e+00   4.090020e+05     60s\n",
      "   79195    3.9310839e+01   0.000000e+00   2.576491e+05     65s\n",
      "\n",
      "Root relaxation: interrupted, 81702 iterations, 61.41 seconds\n",
      "\n",
      "    Nodes    |    Current Node    |     Objective Bounds      |     Work\n",
      " Expl Unexpl |  Obj  Depth IntInf | Incumbent    BestBd   Gap | It/Node Time\n",
      "\n",
      "     0     0          -    0               -   40.77391      -     -   67s\n",
      "\n",
      "Explored 0 nodes (81702 simplex iterations) in 67.59 seconds\n",
      "Thread count was 8 (of 8 available processors)\n",
      "\n",
      "Solution count 0\n",
      "\n",
      "Solve interrupted\n",
      "Best objective -, best bound 4.077391497000e+01, gap -\n"
     ]
    }
   ],
   "source": [
    "model.optimize()"
   ]
  },
  {
   "cell_type": "code",
   "execution_count": null,
   "metadata": {},
   "outputs": [],
   "source": []
  }
 ],
 "metadata": {
  "kernelspec": {
   "display_name": "Python 3",
   "language": "python",
   "name": "python3"
  },
  "language_info": {
   "codemirror_mode": {
    "name": "ipython",
    "version": 3
   },
   "file_extension": ".py",
   "mimetype": "text/x-python",
   "name": "python",
   "nbconvert_exporter": "python",
   "pygments_lexer": "ipython3",
   "version": "3.6.8"
  }
 },
 "nbformat": 4,
 "nbformat_minor": 4
}
